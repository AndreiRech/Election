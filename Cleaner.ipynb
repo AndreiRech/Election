{
 "cells": [
  {
   "cell_type": "code",
   "execution_count": 21,
   "metadata": {},
   "outputs": [],
   "source": [
    "import pandas as pd\n",
    "import numpy as np"
   ]
  },
  {
   "cell_type": "code",
   "execution_count": 22,
   "metadata": {},
   "outputs": [],
   "source": [
    "siglas = [['AC', 'AL', 'AM', 'AP', 'BA', 'CE', 'DF', 'ES', 'GO', 'MA', 'MG', 'MS', 'MT', 'PA', 'PB', 'PE', 'PI', 'PR', 'RJ', 'RN', 'RO', 'RR', 'RS', 'SC', 'SE', 'SP', 'TO'], ['BRASIL']]"
   ]
  },
  {
   "cell_type": "code",
   "execution_count": 23,
   "metadata": {},
   "outputs": [],
   "source": [
    "colunas = []\n",
    "\n",
    "colunas_drop_candidato = [\n",
    "    'DT_GERACAO', 'HH_GERACAO', 'CD_TIPO_ELEICAO', 'NM_TIPO_ELEICAO', 'CD_ELEICAO',\n",
    "    'DS_ELEICAO', 'DT_ELEICAO', 'TP_ABRANGENCIA_ELEICAO', 'SG_UE', 'NM_UE',\n",
    "    'CD_CARGO', 'NR_CANDIDATO', 'NM_URNA_CANDIDATO', 'NM_SOCIAL_CANDIDATO', 'NR_CPF_CANDIDATO',\n",
    "    'DS_EMAIL', 'CD_SITUACAO_CANDIDATURA', 'DS_SITUACAO_CANDIDATURA', 'TP_AGREMIACAO',\n",
    "    'NM_PARTIDO', 'NR_FEDERACAO', 'NM_FEDERACAO', 'SG_FEDERACAO', 'DS_COMPOSICAO_FEDERACAO',\n",
    "    'SQ_COLIGACAO', 'NM_COLIGACAO', 'DS_COMPOSICAO_COLIGACAO', 'SG_UF_NASCIMENTO',\n",
    "    'DT_NASCIMENTO', 'NR_TITULO_ELEITORAL_CANDIDATO', 'CD_GENERO', 'DS_GENERO',\n",
    "    'CD_GRAU_INSTRUCAO', 'DS_GRAU_INSTRUCAO', 'CD_ESTADO_CIVIL', 'DS_ESTADO_CIVIL',\n",
    "    'CD_COR_RACA', 'DS_COR_RACA', 'CD_OCUPACAO', 'DS_OCUPACAO', 'CD_SIT_TOT_TURNO',\n",
    "    'DS_SIT_TOT_TURNO'\n",
    "]\n",
    "colunas.append(colunas_drop_candidato)\n",
    "\n",
    "colunas_drop_voto = [\n",
    "    'DT_GERACAO', 'HH_GERACAO', 'CD_TIPO_ELEICAO',\n",
    "    'NM_TIPO_ELEICAO', 'CD_ELEICAO', 'DS_ELEICAO', 'DT_ELEICAO',\n",
    "    'TP_ABRANGENCIA', 'SG_UE', 'NM_UE', 'CD_MUNICIPIO',\n",
    "    'NM_MUNICIPIO', 'NR_ZONA', 'NR_SECAO', 'CD_CARGO',\n",
    "    'NM_VOTAVEL', 'NR_LOCAL_VOTACAO',\n",
    "    'NM_LOCAL_VOTACAO', 'DS_LOCAL_VOTACAO_ENDERECO', 'NR_VOTAVEL', 'ANO_ELEICAO'\n",
    "]\n",
    "colunas.append(colunas_drop_voto)\n",
    "\n",
    "colunas_drop_extrato = [\n",
    "    'DT_GERACAO', 'HH_GERACAO', 'ANO_ELEICAO', 'CD_TIPO_ELEICAO', 'NM_TIPO_ELEICAO', 'CD_ELEICAO', 'DS_ELEICAO', 'DT_ELEICAO', 'TP_PRESTACAO_CONTAS', 'DT_PRESTACAO_CONTAS', 'SQ_PRESTADOR_CONTAS', 'SG_UE', 'NM_UE', 'NR_CNPJ_PRESTADOR_CONTA', 'CD_CARGO', 'NR_CPF_VICE_CANDIDATO', 'CD_TIPO_FORNECEDOR', 'DS_TIPO_FORNECEDOR', 'DS_CNAE_FORNECEDOR', 'NR_CPF_CNPJ_FORNECEDOR', 'NM_FORNECEDOR', 'NM_FORNECEDOR_RFB', 'CD_ESFERA_PART_FORNECEDOR', 'DS_ESFERA_PART_FORNECEDOR', 'SG_UF_FORNECEDOR', 'CD_MUNICIPIO_FORNECEDOR', 'NM_MUNICIPIO_FORNECEDOR','SQ_CANDIDATO_FORNECEDOR', 'NR_CANDIDATO_FORNECEDOR', 'CD_CARGO_FORNECEDOR', 'DS_CARGO_FORNECEDOR', 'DT_DESPESA', 'NR_CPF_CANDIDATO', 'CD_CNAE_FORNECEDOR', 'CD_ORIGEM_DESPESA', 'NR_DOCUMENTO', 'NM_PARTIDO_FORNECEDOR', 'SG_PARTIDO_FORNECEDOR', 'DS_TIPO_DOCUMENTO', 'NR_PARTIDO_FORNECEDOR', 'NR_CANDIDATO', 'NR_PARTIDO', 'NM_PARTIDO', 'SQ_DESPESA', 'DS_DESPESA'\n",
    "]\n",
    "colunas.append(colunas_drop_extrato)"
   ]
  },
  {
   "cell_type": "code",
   "execution_count": 24,
   "metadata": {},
   "outputs": [],
   "source": [
    "nomes = ['consulta_cand_2022_', 'votacao_secao_2022_', 'despesas_contratadas_candidatos_2022_']\n",
    "upload = ['Candidatos', 'Votos', 'Despesas']\n",
    "local = ['Candidatos', 'Votos', 'Despesas']\n",
    "atributos = [['DS_CARGO', 'GOVERNADOR', 'PASSOU_TURNO', 'NR_TURNO'], ['DS_CARGO', 'GOVERNADOR'], ['DS_CARGO', 'Governador']]"
   ]
  },
  {
   "cell_type": "code",
   "execution_count": 25,
   "metadata": {},
   "outputs": [],
   "source": [
    "def junta(df_list):\n",
    "    return pd.concat(df_list, ignore_index=True)"
   ]
  },
  {
   "cell_type": "code",
   "execution_count": 26,
   "metadata": {},
   "outputs": [],
   "source": [
    "def filtra(df, colunas_drop, atributos):\n",
    "  df = df.drop(columns=colunas_drop)\n",
    "  df = df.loc[(df[atributos[0]] == atributos[1])]  \n",
    "  \n",
    "  if (len(atributos) > 2):\n",
    "    df[atributos[2]] = np.where(df[atributos[3]] == 1, False, True)   \n",
    "   \n",
    "  return df"
   ]
  },
  {
   "cell_type": "code",
   "execution_count": 27,
   "metadata": {},
   "outputs": [],
   "source": [
    "def tipo(nome, colunas_drop, upload, local, sigla, atributos):\n",
    "    df_list = []\n",
    "    \n",
    "    for s in sigla:\n",
    "        n = f'{local}\\\\{nome}{s}.csv'\n",
    "        df = pd.read_csv(n, delimiter=';', encoding='latin')\n",
    "        \n",
    "        df_filtrado = filtra(df, colunas_drop, atributos)\n",
    "        df_list.append(df_filtrado)\n",
    "        \n",
    "        print(n)\n",
    "        \n",
    "    df_final = junta(df_list)\n",
    "    if (upload == 'Candidatos'):\n",
    "        df_final = df_final.sort_values(by=[atributos[2]], ascending=False).drop_duplicates(subset=['SQ_CANDIDATO'], keep='first')\n",
    "        df_final = df_final.drop(columns=['NR_TURNO'])\n",
    "        \n",
    "    if (upload == 'Despesas'):\n",
    "        df_final['DS_CARGO'] = df_final['DS_CARGO'].str.upper()\n",
    "        df_final = df_final.rename(columns={'ST_TURNO': 'NR_TURNO'})\n",
    "        df_final = df_final[df_final[\"SG_PARTIDO\"] != \"PCO\"]\n",
    "        df_final = df_final[df_final[\"DS_ORIGEM_DESPESA\"] != \"#NULO\"]\n",
    "    \n",
    "    df_final.to_csv(upload + '.csv', index=False)"
   ]
  },
  {
   "cell_type": "code",
   "execution_count": 28,
   "metadata": {},
   "outputs": [
    {
     "name": "stdout",
     "output_type": "stream",
     "text": [
      "Despesas\\despesas_contratadas_candidatos_2022_BRASIL.csv\n"
     ]
    }
   ],
   "source": [
    "#tipo(nomes[0], colunas[0], upload[0], local[0], siglas[0], atributos[0])\n",
    "#tipo(nomes[1], colunas[1], upload[1], local[1], siglas[0], atributos[1])\n",
    "tipo(nomes[2], colunas[2], upload[2], local[2], siglas[1], atributos[2])"
   ]
  },
  {
   "cell_type": "code",
   "execution_count": null,
   "metadata": {},
   "outputs": [],
   "source": []
  }
 ],
 "metadata": {
  "kernelspec": {
   "display_name": "Python 3",
   "language": "python",
   "name": "python3"
  },
  "language_info": {
   "codemirror_mode": {
    "name": "ipython",
    "version": 3
   },
   "file_extension": ".py",
   "mimetype": "text/x-python",
   "name": "python",
   "nbconvert_exporter": "python",
   "pygments_lexer": "ipython3",
   "version": "3.12.2"
  }
 },
 "nbformat": 4,
 "nbformat_minor": 2
}
